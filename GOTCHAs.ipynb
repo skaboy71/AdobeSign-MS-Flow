{
 "cells": [
  {
   "cell_type": "markdown",
   "metadata": {
    "application/vnd.databricks.v1+cell": {
     "cellMetadata": {},
     "inputWidgets": {},
     "nuid": "07ba510a-4818-45ed-972e-8eb1bc511d29",
     "showTitle": false,
     "title": ""
    }
   },
   "source": [
    "Missing Tables/Views\n",
    "\n",
    "*  a_sign_pub.partner_channels\n",
    "*  a_sign.vw_user_desharded\n",
    "*  a_sign_tmp.channel_users"
   ]
  },
  {
   "cell_type": "markdown",
   "metadata": {
    "application/vnd.databricks.v1+cell": {
     "cellMetadata": {},
     "inputWidgets": {},
     "nuid": "3ebb04d9-44d6-4a71-90d4-76532c921de1",
     "showTitle": false,
     "title": ""
    }
   },
   "source": [
    "#### \"Not equals\" is not the same in HQL and Spark SQL\n",
    "In SQL here in DBX the following\n",
    "```\n",
    "WHERE 'column_name' !=\n",
    "```\n",
    "**will NOT** include rows where the column is null.  It will include '' \\(empty\\) but **will not** include null.\n",
    "\n",
    "This is **DIFFERENT** from hql and so for instance we have some queries that check for `internal != '1'` in HQL which will include rows that are null in the named column, in Spark SQL it will not."
   ]
  },
  {
   "cell_type": "markdown",
   "metadata": {
    "application/vnd.databricks.v1+cell": {
     "cellMetadata": {},
     "inputWidgets": {},
     "nuid": "60ceb785-836d-471f-8138-617aa3ea39b9",
     "showTitle": false,
     "title": ""
    }
   },
   "source": [
    "#### Same parameter data for multiple \"tasks\" in a workflow\n",
    "\n",
    "https://learn.microsoft.com/en-us/azure/databricks/workflows/jobs/share-task-context\n",
    "\n",
    "```\n",
    "dbutils.jobs.taskValues.get(taskKey = \"Get_user_data\", key = \"age\", default = 42, debugValue = 0)\n",
    "dbutils.jobs.taskValues.get(taskKey = \"Get_user_data\", key = \"name\", default = \"Jane Doe\")\n",
    "```"
   ]
  }
 ],
 "metadata": {
  "application/vnd.databricks.v1+notebook": {
   "dashboards": [],
   "language": "python",
   "notebookMetadata": {
    "pythonIndentUnit": 4
   },
   "notebookName": "GOTCHAs",
   "widgets": {}
  }
 },
 "nbformat": 4,
 "nbformat_minor": 0
}
